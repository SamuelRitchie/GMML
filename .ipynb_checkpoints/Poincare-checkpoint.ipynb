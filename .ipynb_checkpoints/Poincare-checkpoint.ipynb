{
 "cells": [
  {
   "cell_type": "code",
   "execution_count": 9,
   "metadata": {},
   "outputs": [],
   "source": [
    "import math, random, operator\n",
    "import numpy as np\n",
    "from functools import reduce\n",
    "import operator\n",
    "import matplotlib.pyplot as plt\n",
    "from collections import defaultdict\n",
    "from nltk.corpus import wordnet as wn\n",
    "plt.style.use('ggplot')\n",
    "\n",
    "from functools import reduce"
   ]
  },
  {
   "cell_type": "code",
   "execution_count": 10,
   "metadata": {},
   "outputs": [],
   "source": [
    "\n",
    "\n",
    "def pplot(pdict,pembs,name='mammal'):\n",
    "\tfig = plt.figure(figsize=(10,10)); ax = plt.gca(); ax.cla()\n",
    "\tax.set_xlim((-1.1,1.1)); ax.set_ylim((-1.1,1.1))\n",
    "\tax.add_artist(plt.Circle((0,0),1.,color='black',fill=False))\n",
    "\tfor w,i in pdict.items():\n",
    "\t\tc0,c1 = pembs[i]\n",
    "\t\tax.plot(c0,c1,'o',color='y')\n",
    "\t\tax.text(c0+.01,c1+.01,w,color='b')\n",
    "\tfig.savefig('data/'+name+'.png',dpi=fig.dpi); # plt.show()\n",
    "\n",
    "class PoincareBase(object):\n",
    "\tdef __init__(self,num_iter=10,num_negs=10,lr1=0.2,lr2=0.01,dp='data/music_genre_network.tsv'): # dim=2\n",
    "\t\tself.dim = 2\n",
    "\t\tself.num_iter = num_iter\n",
    "\t\tself.num_negs = num_negs\n",
    "\t\tself.lr1, self.lr2 = lr1, lr2\n",
    "\n",
    "\t\tself.pdata = list(map(lambda l:l.split('\\t'),filter(None,open(dp).read().split('\\n'))))\n",
    "\t\tself.pdict = {w:i for i,w in enumerate(set(reduce(operator.add,self.pdata)))}\n",
    "\n",
    "        \n",
    "        \n",
    "\tdef dists(self,u,v): pass\n",
    "\tdef train(self): pass\n"
   ]
  },
  {
   "cell_type": "code",
   "execution_count": 11,
   "metadata": {},
   "outputs": [],
   "source": [
    "class PoincareNumpy(PoincareBase):\n",
    "\teps = 1e-6\n",
    "\tdef __init__(self,num_iter=10,num_negs=10,lr1=0.2,lr2=0.01,dp='data/music_genre_network.tsv'): # dim=2\n",
    "\t\tsuper(PoincareNumpy,self).__init__(num_iter,num_negs,lr1,lr2,dp)\n",
    "\t\tself.pembs = [np.random.uniform(low=-0.001,high=0.001,size=(self.dim,)) for i in range(len(self.pdict))]\n",
    "\tdef add_clip(self,c,u,v,thresh=1.-eps):\n",
    "\t\tuu, uv, vv = (u**2).sum(), (u*v).sum(), (v**2).sum(); C = uu+2*c*uv+c*c*vv\n",
    "\t\tscale = thresh/C**0.5 if C>thresh**2 else 1.\n",
    "\t\treturn (u+c*v)*scale\n",
    "\tdef acosh(self,x):\n",
    "\t\treturn math.log(x+(x**2-1)**0.5)\n",
    "\tdef dists(self,u,v):\n",
    "\t\tuu, uv, vv = (u**2).sum(), (u*v).sum(), (v**2).sum()\n",
    "\t\talpha, beta = max(self.eps,1-uu), max(self.eps,1-vv)\n",
    "\t\tgamma = max(1.,1+2*(uu-2*uv+vv)/alpha/beta)\n",
    "\t\treturn self.acosh(gamma), (u,v,uu,uv,vv,alpha,beta,gamma)\n",
    "\tdef backward(self,gdo,env):\n",
    "\t\tc = gdo; u,v,uu,uv,vv,alpha,beta,gamma = env\n",
    "\t\tif gamma == 1: return None, None\n",
    "\t\tc *= 4./(gamma**2-1)**0.5/alpha/beta\n",
    "\t\tcu, cv = c*alpha**2/4., c*beta**2/4.\n",
    "\t\tgdu = cu*((vv-2*uv+1)/alpha*u-v)\n",
    "\t\tgdv = cv*((uu-2*uv+1)/beta*v-u)\n",
    "\t\treturn gdu, gdv\n",
    "    \n",
    "\tdef train(self): # BOTH SAMPLING\n",
    "\t\tpdata, pdict, pembs = self.pdata, self.pdict, self.pembs\n",
    "\t\tdef neg_sampling(i1,i2,lp=range(len(pdict))):\n",
    "\t\t\td,env = self.dists(pembs[i1],pembs[i2])\n",
    "\t\t\tyield i1,i2,math.exp(-d),env\n",
    "\t\t\tfor _ in range(self.num_negs):\n",
    "\t\t\t\ts1,s2 = random.choice(lp),random.choice(lp)\n",
    "\t\t\t\td,env = self.dists(pembs[s1],pembs[s2])\n",
    "\t\t\t\tyield s1,s2,math.exp(-d),env\n",
    "\t\tfor epoch in range(self.num_iter):\n",
    "\t\t\trandom.shuffle(pdata)\n",
    "\t\t\tr = 1.*epoch/self.num_iter; lr = (1-r)*self.lr1+r*self.lr2\n",
    "\t\t\tfor w1,w2 in pdata:\n",
    "\t\t\t\ti1,i2 = pdict[w1],pdict[w2]\n",
    "\t\t\t\texp_neg_dists = list(neg_sampling(i1,i2))\n",
    "\t\t\t\tZ = sum(map(operator.itemgetter(2),exp_neg_dists))\n",
    "\t\t\t\tfor i,(i1,i2,d,env) in enumerate(exp_neg_dists):\n",
    "\t\t\t\t\tgl,gr = self.backward(1.*(i==0)-d/Z,env)\n",
    "\t\t\t\t\tif gl is not None: pembs[i1] = self.add_clip(-lr,pembs[i1],gl)\n",
    "\t\t\t\t\tif gr is not None: pembs[i2] = self.add_clip(-lr,pembs[i2],gr)\n",
    "        \n",
    "\t\tpplot(self.pdict,self.pembs,'mammal_numpy')"
   ]
  },
  {
   "cell_type": "code",
   "execution_count": 14,
   "metadata": {},
   "outputs": [],
   "source": [
    "random.seed(123)"
   ]
  },
  {
   "cell_type": "code",
   "execution_count": null,
   "metadata": {},
   "outputs": [],
   "source": [
    "if __name__ == '__main__':\n",
    "\tPoincareNumpy(num_iter=100).train()"
   ]
  }
 ],
 "metadata": {
  "kernelspec": {
   "display_name": "Python 3",
   "language": "python",
   "name": "python3"
  },
  "language_info": {
   "codemirror_mode": {
    "name": "ipython",
    "version": 3
   },
   "file_extension": ".py",
   "mimetype": "text/x-python",
   "name": "python",
   "nbconvert_exporter": "python",
   "pygments_lexer": "ipython3",
   "version": "3.6.4"
  }
 },
 "nbformat": 4,
 "nbformat_minor": 2
}
